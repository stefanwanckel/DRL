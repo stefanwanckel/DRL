{
 "cells": [
  {
   "cell_type": "code",
   "execution_count": null,
   "metadata": {},
   "outputs": [],
   "source": [
    "import sys\n",
    "import cv2\n",
    "import pyrealsense2 as rs\n",
    "import numpy as np\n",
    "from utils import *"
   ]
  },
  {
   "cell_type": "code",
   "execution_count": null,
   "metadata": {},
   "outputs": [],
   "source": [
    "# start pipline\n",
    "pipe = rs.pipeline()\n",
    "config = rs.config()\n",
    "config.enable_stream(rs.stream.color, 1280, 720, rs.format.bgr8, 30)\n",
    "profile = pipe.start(config)"
   ]
  },
  {
   "cell_type": "code",
   "execution_count": null,
   "metadata": {},
   "outputs": [],
   "source": [
    "CAMERA_INFO_PATH = \"../camera_info/\"\n",
    "# load camera params\n",
    "rvecs, tvecs, mtx, dist, ret = read_camera_params()"
   ]
  },
  {
   "cell_type": "code",
   "execution_count": null,
   "metadata": {},
   "outputs": [],
   "source": [
    "try:\n",
    "    while True:\n",
    "\n",
    "        frames = pipe.wait_for_frames()\n",
    "        if counter > 50:\n",
    "            align = rs.align(rs.stream.color)\n",
    "            aligned = align.process(frames)\n",
    "            c_frames = aligned.get_color_frame()\n",
    "            img = np.asanyarray(c_frames.get_data())\n",
    "\n",
    "            cv2.imshow('img', img)\n",
    "\n",
    "            # cv2.imwrite(\"calibration_image_{}\".format(str(counter-50)))\n",
    "finally:\n",
    "    pipe.stop()\n"
   ]
  }
 ],
 "metadata": {
  "interpreter": {
   "hash": "bf2eafb1a33a9d766c45e689d6f172dede454829dd34241d5199c3b88757e371"
  },
  "kernelspec": {
   "display_name": "Python 3.7.10 64-bit ('tiagongHER': conda)",
   "name": "python3"
  },
  "language_info": {
   "name": "python",
   "version": "3.7.10"
  },
  "orig_nbformat": 4
 },
 "nbformat": 4,
 "nbformat_minor": 2
}
